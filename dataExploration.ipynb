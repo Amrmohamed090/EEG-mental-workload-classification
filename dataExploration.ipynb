{
 "cells": [
  {
   "cell_type": "code",
   "execution_count": 1,
   "id": "1ae9a95c-9237-491f-bcff-30a6aad6e7ed",
   "metadata": {},
   "outputs": [],
   "source": [
    "import numpy as np\n",
    "import pandas as pd\n",
    "import matplotlib.pyplot as plt\n",
    "import os\n"
   ]
  },
  {
   "cell_type": "code",
   "execution_count": 2,
   "id": "3aa39b83-f332-4ce9-816a-acfa752607a1",
   "metadata": {},
   "outputs": [],
   "source": [
    "base_dir = \"./data\"\n",
    "\n",
    "# Load all text files from the directory\n",
    "file_list = os.listdir(base_dir)\n",
    "file_list\n",
    "\n",
    "\n",
    "n_channels = 20\n",
    "#f_sample = "
   ]
  },
  {
   "cell_type": "code",
   "execution_count": 3,
   "id": "925746d8-fbdf-4b3a-9d9b-f98af56f90e6",
   "metadata": {},
   "outputs": [],
   "source": [
    "def load_signal(filename):\n",
    "    file = f\"{base_dir}\\\\{file_list[4]}\"\n",
    "    data = mne.io.read_raw_edf(file)\n",
    "    raw_data = data.get_data()\n",
    "    # you can get the metadata included in the file and a list of all channels:\n",
    "    info = data.info\n",
    "    channels = data.ch_names\n",
    "\n",
    "\n",
    "    \n",
    "    return {\"data\": raw_data, \"info\": info, \"channels\": channels}\n",
    "\n"
   ]
  },
  {
   "cell_type": "code",
   "execution_count": null,
   "id": "c28f2c01-bf2a-46cb-a081-d2fcdc6b3d39",
   "metadata": {},
   "outputs": [],
   "source": [
    "load_signal(filename[0])"
   ]
  }
 ],
 "metadata": {
  "kernelspec": {
   "display_name": "Python 3 (ipykernel)",
   "language": "python",
   "name": "python3"
  },
  "language_info": {
   "codemirror_mode": {
    "name": "ipython",
    "version": 3
   },
   "file_extension": ".py",
   "mimetype": "text/x-python",
   "name": "python",
   "nbconvert_exporter": "python",
   "pygments_lexer": "ipython3",
   "version": "3.12.3"
  }
 },
 "nbformat": 4,
 "nbformat_minor": 5
}
